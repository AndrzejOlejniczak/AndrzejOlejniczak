{
  "nbformat": 4,
  "nbformat_minor": 0,
  "metadata": {
    "colab": {
      "provenance": [],
      "mount_file_id": "1XV_LDZRvJaSBFp75caXf4Npohv9iyhM-",
      "authorship_tag": "ABX9TyMfM2fnr6r/kSoDSOEw5I7v",
      "include_colab_link": true
    },
    "kernelspec": {
      "name": "python3",
      "display_name": "Python 3"
    },
    "language_info": {
      "name": "python"
    }
  },
  "cells": [
    {
      "cell_type": "markdown",
      "metadata": {
        "id": "view-in-github",
        "colab_type": "text"
      },
      "source": [
        "<a href=\"https://colab.research.google.com/github/AndrzejOlejniczak/AndrzejOlejniczak/blob/main/Quickie_03_Decision_Tree_Regression.ipynb\" target=\"_parent\"><img src=\"https://colab.research.google.com/assets/colab-badge.svg\" alt=\"Open In Colab\"/></a>"
      ]
    },
    {
      "cell_type": "markdown",
      "source": [
        "# Decision Tree Regressor from Scratch:\n",
        "## Airfoil Self Noise Data"
      ],
      "metadata": {
        "id": "wKgio0_0bb5J"
      }
    },
    {
      "cell_type": "markdown",
      "source": [
        "## Prepare environment"
      ],
      "metadata": {
        "id": "oYPBqfNdbtYw"
      }
    },
    {
      "cell_type": "code",
      "execution_count": null,
      "metadata": {
        "id": "GOLdLlSXVy_-"
      },
      "outputs": [],
      "source": [
        "import numpy as np\n",
        "import pandas as pd"
      ]
    },
    {
      "cell_type": "code",
      "source": [
        "import os"
      ],
      "metadata": {
        "id": "4pGdrNtQbyc4"
      },
      "execution_count": null,
      "outputs": []
    },
    {
      "cell_type": "code",
      "source": [
        "import matplotlib.pyplot as plt\n",
        "import seaborn as sns"
      ],
      "metadata": {
        "id": "zFgMjQ5BfTuw"
      },
      "execution_count": null,
      "outputs": []
    },
    {
      "cell_type": "markdown",
      "source": [
        "## Get the data"
      ],
      "metadata": {
        "id": "VCPpS7HbcDKg"
      }
    },
    {
      "cell_type": "code",
      "source": [
        "data_dir = '/content/drive/MyDrive/Colab Notebooks/Airfoil Self Noise data/AirfoilSelfNoise.csv'"
      ],
      "metadata": {
        "id": "AaLN3_61b9Ry"
      },
      "execution_count": null,
      "outputs": []
    },
    {
      "cell_type": "code",
      "source": [
        "os.listdir('/content/drive/MyDrive/Colab Notebooks/Airfoil Self Noise data')"
      ],
      "metadata": {
        "id": "rpRzbwxscohh",
        "colab": {
          "base_uri": "https://localhost:8080/"
        },
        "outputId": "f391edd8-8b9c-4e7c-c82b-1e31127aecbe"
      },
      "execution_count": null,
      "outputs": [
        {
          "output_type": "execute_result",
          "data": {
            "text/plain": [
              "['AirfoilSelfNoise.csv']"
            ]
          },
          "metadata": {},
          "execution_count": 5
        }
      ]
    },
    {
      "cell_type": "code",
      "source": [
        "airfoil_data = pd.read_csv(data_dir)"
      ],
      "metadata": {
        "id": "NFq7UuKXdK7b"
      },
      "execution_count": null,
      "outputs": []
    },
    {
      "cell_type": "code",
      "source": [
        "airfoil_data.head()"
      ],
      "metadata": {
        "id": "ktz0QvkvePQP",
        "colab": {
          "base_uri": "https://localhost:8080/",
          "height": 206
        },
        "outputId": "301230ac-1564-4445-eecd-11ebf9ec5161"
      },
      "execution_count": null,
      "outputs": [
        {
          "output_type": "execute_result",
          "data": {
            "text/plain": [
              "      f  alpha       c  U_infinity     delta     SSPL\n",
              "0   800    0.0  0.3048        71.3  0.002663  126.201\n",
              "1  1000    0.0  0.3048        71.3  0.002663  125.201\n",
              "2  1250    0.0  0.3048        71.3  0.002663  125.951\n",
              "3  1600    0.0  0.3048        71.3  0.002663  127.591\n",
              "4  2000    0.0  0.3048        71.3  0.002663  127.461"
            ],
            "text/html": [
              "\n",
              "  <div id=\"df-fc934838-bf7e-462a-a32b-88fc9e153207\" class=\"colab-df-container\">\n",
              "    <div>\n",
              "<style scoped>\n",
              "    .dataframe tbody tr th:only-of-type {\n",
              "        vertical-align: middle;\n",
              "    }\n",
              "\n",
              "    .dataframe tbody tr th {\n",
              "        vertical-align: top;\n",
              "    }\n",
              "\n",
              "    .dataframe thead th {\n",
              "        text-align: right;\n",
              "    }\n",
              "</style>\n",
              "<table border=\"1\" class=\"dataframe\">\n",
              "  <thead>\n",
              "    <tr style=\"text-align: right;\">\n",
              "      <th></th>\n",
              "      <th>f</th>\n",
              "      <th>alpha</th>\n",
              "      <th>c</th>\n",
              "      <th>U_infinity</th>\n",
              "      <th>delta</th>\n",
              "      <th>SSPL</th>\n",
              "    </tr>\n",
              "  </thead>\n",
              "  <tbody>\n",
              "    <tr>\n",
              "      <th>0</th>\n",
              "      <td>800</td>\n",
              "      <td>0.0</td>\n",
              "      <td>0.3048</td>\n",
              "      <td>71.3</td>\n",
              "      <td>0.002663</td>\n",
              "      <td>126.201</td>\n",
              "    </tr>\n",
              "    <tr>\n",
              "      <th>1</th>\n",
              "      <td>1000</td>\n",
              "      <td>0.0</td>\n",
              "      <td>0.3048</td>\n",
              "      <td>71.3</td>\n",
              "      <td>0.002663</td>\n",
              "      <td>125.201</td>\n",
              "    </tr>\n",
              "    <tr>\n",
              "      <th>2</th>\n",
              "      <td>1250</td>\n",
              "      <td>0.0</td>\n",
              "      <td>0.3048</td>\n",
              "      <td>71.3</td>\n",
              "      <td>0.002663</td>\n",
              "      <td>125.951</td>\n",
              "    </tr>\n",
              "    <tr>\n",
              "      <th>3</th>\n",
              "      <td>1600</td>\n",
              "      <td>0.0</td>\n",
              "      <td>0.3048</td>\n",
              "      <td>71.3</td>\n",
              "      <td>0.002663</td>\n",
              "      <td>127.591</td>\n",
              "    </tr>\n",
              "    <tr>\n",
              "      <th>4</th>\n",
              "      <td>2000</td>\n",
              "      <td>0.0</td>\n",
              "      <td>0.3048</td>\n",
              "      <td>71.3</td>\n",
              "      <td>0.002663</td>\n",
              "      <td>127.461</td>\n",
              "    </tr>\n",
              "  </tbody>\n",
              "</table>\n",
              "</div>\n",
              "    <div class=\"colab-df-buttons\">\n",
              "\n",
              "  <div class=\"colab-df-container\">\n",
              "    <button class=\"colab-df-convert\" onclick=\"convertToInteractive('df-fc934838-bf7e-462a-a32b-88fc9e153207')\"\n",
              "            title=\"Convert this dataframe to an interactive table.\"\n",
              "            style=\"display:none;\">\n",
              "\n",
              "  <svg xmlns=\"http://www.w3.org/2000/svg\" height=\"24px\" viewBox=\"0 -960 960 960\">\n",
              "    <path d=\"M120-120v-720h720v720H120Zm60-500h600v-160H180v160Zm220 220h160v-160H400v160Zm0 220h160v-160H400v160ZM180-400h160v-160H180v160Zm440 0h160v-160H620v160ZM180-180h160v-160H180v160Zm440 0h160v-160H620v160Z\"/>\n",
              "  </svg>\n",
              "    </button>\n",
              "\n",
              "  <style>\n",
              "    .colab-df-container {\n",
              "      display:flex;\n",
              "      gap: 12px;\n",
              "    }\n",
              "\n",
              "    .colab-df-convert {\n",
              "      background-color: #E8F0FE;\n",
              "      border: none;\n",
              "      border-radius: 50%;\n",
              "      cursor: pointer;\n",
              "      display: none;\n",
              "      fill: #1967D2;\n",
              "      height: 32px;\n",
              "      padding: 0 0 0 0;\n",
              "      width: 32px;\n",
              "    }\n",
              "\n",
              "    .colab-df-convert:hover {\n",
              "      background-color: #E2EBFA;\n",
              "      box-shadow: 0px 1px 2px rgba(60, 64, 67, 0.3), 0px 1px 3px 1px rgba(60, 64, 67, 0.15);\n",
              "      fill: #174EA6;\n",
              "    }\n",
              "\n",
              "    .colab-df-buttons div {\n",
              "      margin-bottom: 4px;\n",
              "    }\n",
              "\n",
              "    [theme=dark] .colab-df-convert {\n",
              "      background-color: #3B4455;\n",
              "      fill: #D2E3FC;\n",
              "    }\n",
              "\n",
              "    [theme=dark] .colab-df-convert:hover {\n",
              "      background-color: #434B5C;\n",
              "      box-shadow: 0px 1px 3px 1px rgba(0, 0, 0, 0.15);\n",
              "      filter: drop-shadow(0px 1px 2px rgba(0, 0, 0, 0.3));\n",
              "      fill: #FFFFFF;\n",
              "    }\n",
              "  </style>\n",
              "\n",
              "    <script>\n",
              "      const buttonEl =\n",
              "        document.querySelector('#df-fc934838-bf7e-462a-a32b-88fc9e153207 button.colab-df-convert');\n",
              "      buttonEl.style.display =\n",
              "        google.colab.kernel.accessAllowed ? 'block' : 'none';\n",
              "\n",
              "      async function convertToInteractive(key) {\n",
              "        const element = document.querySelector('#df-fc934838-bf7e-462a-a32b-88fc9e153207');\n",
              "        const dataTable =\n",
              "          await google.colab.kernel.invokeFunction('convertToInteractive',\n",
              "                                                    [key], {});\n",
              "        if (!dataTable) return;\n",
              "\n",
              "        const docLinkHtml = 'Like what you see? Visit the ' +\n",
              "          '<a target=\"_blank\" href=https://colab.research.google.com/notebooks/data_table.ipynb>data table notebook</a>'\n",
              "          + ' to learn more about interactive tables.';\n",
              "        element.innerHTML = '';\n",
              "        dataTable['output_type'] = 'display_data';\n",
              "        await google.colab.output.renderOutput(dataTable, element);\n",
              "        const docLink = document.createElement('div');\n",
              "        docLink.innerHTML = docLinkHtml;\n",
              "        element.appendChild(docLink);\n",
              "      }\n",
              "    </script>\n",
              "  </div>\n",
              "\n",
              "\n",
              "<div id=\"df-8ee29883-3e7e-456f-a19c-9b3f2577080c\">\n",
              "  <button class=\"colab-df-quickchart\" onclick=\"quickchart('df-8ee29883-3e7e-456f-a19c-9b3f2577080c')\"\n",
              "            title=\"Suggest charts.\"\n",
              "            style=\"display:none;\">\n",
              "\n",
              "<svg xmlns=\"http://www.w3.org/2000/svg\" height=\"24px\"viewBox=\"0 0 24 24\"\n",
              "     width=\"24px\">\n",
              "    <g>\n",
              "        <path d=\"M19 3H5c-1.1 0-2 .9-2 2v14c0 1.1.9 2 2 2h14c1.1 0 2-.9 2-2V5c0-1.1-.9-2-2-2zM9 17H7v-7h2v7zm4 0h-2V7h2v10zm4 0h-2v-4h2v4z\"/>\n",
              "    </g>\n",
              "</svg>\n",
              "  </button>\n",
              "\n",
              "<style>\n",
              "  .colab-df-quickchart {\n",
              "      --bg-color: #E8F0FE;\n",
              "      --fill-color: #1967D2;\n",
              "      --hover-bg-color: #E2EBFA;\n",
              "      --hover-fill-color: #174EA6;\n",
              "      --disabled-fill-color: #AAA;\n",
              "      --disabled-bg-color: #DDD;\n",
              "  }\n",
              "\n",
              "  [theme=dark] .colab-df-quickchart {\n",
              "      --bg-color: #3B4455;\n",
              "      --fill-color: #D2E3FC;\n",
              "      --hover-bg-color: #434B5C;\n",
              "      --hover-fill-color: #FFFFFF;\n",
              "      --disabled-bg-color: #3B4455;\n",
              "      --disabled-fill-color: #666;\n",
              "  }\n",
              "\n",
              "  .colab-df-quickchart {\n",
              "    background-color: var(--bg-color);\n",
              "    border: none;\n",
              "    border-radius: 50%;\n",
              "    cursor: pointer;\n",
              "    display: none;\n",
              "    fill: var(--fill-color);\n",
              "    height: 32px;\n",
              "    padding: 0;\n",
              "    width: 32px;\n",
              "  }\n",
              "\n",
              "  .colab-df-quickchart:hover {\n",
              "    background-color: var(--hover-bg-color);\n",
              "    box-shadow: 0 1px 2px rgba(60, 64, 67, 0.3), 0 1px 3px 1px rgba(60, 64, 67, 0.15);\n",
              "    fill: var(--button-hover-fill-color);\n",
              "  }\n",
              "\n",
              "  .colab-df-quickchart-complete:disabled,\n",
              "  .colab-df-quickchart-complete:disabled:hover {\n",
              "    background-color: var(--disabled-bg-color);\n",
              "    fill: var(--disabled-fill-color);\n",
              "    box-shadow: none;\n",
              "  }\n",
              "\n",
              "  .colab-df-spinner {\n",
              "    border: 2px solid var(--fill-color);\n",
              "    border-color: transparent;\n",
              "    border-bottom-color: var(--fill-color);\n",
              "    animation:\n",
              "      spin 1s steps(1) infinite;\n",
              "  }\n",
              "\n",
              "  @keyframes spin {\n",
              "    0% {\n",
              "      border-color: transparent;\n",
              "      border-bottom-color: var(--fill-color);\n",
              "      border-left-color: var(--fill-color);\n",
              "    }\n",
              "    20% {\n",
              "      border-color: transparent;\n",
              "      border-left-color: var(--fill-color);\n",
              "      border-top-color: var(--fill-color);\n",
              "    }\n",
              "    30% {\n",
              "      border-color: transparent;\n",
              "      border-left-color: var(--fill-color);\n",
              "      border-top-color: var(--fill-color);\n",
              "      border-right-color: var(--fill-color);\n",
              "    }\n",
              "    40% {\n",
              "      border-color: transparent;\n",
              "      border-right-color: var(--fill-color);\n",
              "      border-top-color: var(--fill-color);\n",
              "    }\n",
              "    60% {\n",
              "      border-color: transparent;\n",
              "      border-right-color: var(--fill-color);\n",
              "    }\n",
              "    80% {\n",
              "      border-color: transparent;\n",
              "      border-right-color: var(--fill-color);\n",
              "      border-bottom-color: var(--fill-color);\n",
              "    }\n",
              "    90% {\n",
              "      border-color: transparent;\n",
              "      border-bottom-color: var(--fill-color);\n",
              "    }\n",
              "  }\n",
              "</style>\n",
              "\n",
              "  <script>\n",
              "    async function quickchart(key) {\n",
              "      const quickchartButtonEl =\n",
              "        document.querySelector('#' + key + ' button');\n",
              "      quickchartButtonEl.disabled = true;  // To prevent multiple clicks.\n",
              "      quickchartButtonEl.classList.add('colab-df-spinner');\n",
              "      try {\n",
              "        const charts = await google.colab.kernel.invokeFunction(\n",
              "            'suggestCharts', [key], {});\n",
              "      } catch (error) {\n",
              "        console.error('Error during call to suggestCharts:', error);\n",
              "      }\n",
              "      quickchartButtonEl.classList.remove('colab-df-spinner');\n",
              "      quickchartButtonEl.classList.add('colab-df-quickchart-complete');\n",
              "    }\n",
              "    (() => {\n",
              "      let quickchartButtonEl =\n",
              "        document.querySelector('#df-8ee29883-3e7e-456f-a19c-9b3f2577080c button');\n",
              "      quickchartButtonEl.style.display =\n",
              "        google.colab.kernel.accessAllowed ? 'block' : 'none';\n",
              "    })();\n",
              "  </script>\n",
              "</div>\n",
              "    </div>\n",
              "  </div>\n"
            ]
          },
          "metadata": {},
          "execution_count": 7
        }
      ]
    },
    {
      "cell_type": "markdown",
      "source": [
        "## Inspect the data\n",
        "\n",
        "Attribute Information (from [Kaggle](https://www.kaggle.com/datasets/fedesoriano/airfoil-selfnoise-dataset/code)):\n",
        "\n",
        "Input features:\n",
        "\n",
        "    f: Frequency in Hertzs [Hz].\n",
        "    alpha: Angle of attack (AoA, α), in degrees [°].\n",
        "    c: Chord length, in meters [m].\n",
        "    U_infinity: Free-stream velocity, in meters per second [m/s].\n",
        "    delta: Suction side displacement thickness (𝛿), in meters [m].\n",
        "\n",
        "Output:\n",
        "\n",
        "    SSPL: Scaled sound pressure level, in decibels [dB].\n"
      ],
      "metadata": {
        "id": "SHX5PKcRetCd"
      }
    },
    {
      "cell_type": "code",
      "source": [
        "airfoil_data.info()"
      ],
      "metadata": {
        "id": "Eg561xmveyXl",
        "colab": {
          "base_uri": "https://localhost:8080/"
        },
        "outputId": "912f3692-5ce3-4370-af65-1c27db2f625a"
      },
      "execution_count": null,
      "outputs": [
        {
          "output_type": "stream",
          "name": "stdout",
          "text": [
            "<class 'pandas.core.frame.DataFrame'>\n",
            "RangeIndex: 1503 entries, 0 to 1502\n",
            "Data columns (total 6 columns):\n",
            " #   Column      Non-Null Count  Dtype  \n",
            "---  ------      --------------  -----  \n",
            " 0   f           1503 non-null   int64  \n",
            " 1   alpha       1503 non-null   float64\n",
            " 2   c           1503 non-null   float64\n",
            " 3   U_infinity  1503 non-null   float64\n",
            " 4   delta       1503 non-null   float64\n",
            " 5   SSPL        1503 non-null   float64\n",
            "dtypes: float64(5), int64(1)\n",
            "memory usage: 70.6 KB\n"
          ]
        }
      ]
    },
    {
      "cell_type": "code",
      "source": [
        "airfoil_data.describe()"
      ],
      "metadata": {
        "id": "YsMoJLEne9mS",
        "colab": {
          "base_uri": "https://localhost:8080/",
          "height": 300
        },
        "outputId": "fee720b7-d240-407d-86c7-b352aa39f789"
      },
      "execution_count": null,
      "outputs": [
        {
          "output_type": "execute_result",
          "data": {
            "text/plain": [
              "                  f        alpha            c   U_infinity        delta  \\\n",
              "count   1503.000000  1503.000000  1503.000000  1503.000000  1503.000000   \n",
              "mean    2886.380572     6.782302     0.136548    50.860745     0.011140   \n",
              "std     3152.573137     5.918128     0.093541    15.572784     0.013150   \n",
              "min      200.000000     0.000000     0.025400    31.700000     0.000401   \n",
              "25%      800.000000     2.000000     0.050800    39.600000     0.002535   \n",
              "50%     1600.000000     5.400000     0.101600    39.600000     0.004957   \n",
              "75%     4000.000000     9.900000     0.228600    71.300000     0.015576   \n",
              "max    20000.000000    22.200000     0.304800    71.300000     0.058411   \n",
              "\n",
              "              SSPL  \n",
              "count  1503.000000  \n",
              "mean    124.835943  \n",
              "std       6.898657  \n",
              "min     103.380000  \n",
              "25%     120.191000  \n",
              "50%     125.721000  \n",
              "75%     129.995500  \n",
              "max     140.987000  "
            ],
            "text/html": [
              "\n",
              "  <div id=\"df-cd5f1245-586f-4302-bb8c-57daa6746bfb\" class=\"colab-df-container\">\n",
              "    <div>\n",
              "<style scoped>\n",
              "    .dataframe tbody tr th:only-of-type {\n",
              "        vertical-align: middle;\n",
              "    }\n",
              "\n",
              "    .dataframe tbody tr th {\n",
              "        vertical-align: top;\n",
              "    }\n",
              "\n",
              "    .dataframe thead th {\n",
              "        text-align: right;\n",
              "    }\n",
              "</style>\n",
              "<table border=\"1\" class=\"dataframe\">\n",
              "  <thead>\n",
              "    <tr style=\"text-align: right;\">\n",
              "      <th></th>\n",
              "      <th>f</th>\n",
              "      <th>alpha</th>\n",
              "      <th>c</th>\n",
              "      <th>U_infinity</th>\n",
              "      <th>delta</th>\n",
              "      <th>SSPL</th>\n",
              "    </tr>\n",
              "  </thead>\n",
              "  <tbody>\n",
              "    <tr>\n",
              "      <th>count</th>\n",
              "      <td>1503.000000</td>\n",
              "      <td>1503.000000</td>\n",
              "      <td>1503.000000</td>\n",
              "      <td>1503.000000</td>\n",
              "      <td>1503.000000</td>\n",
              "      <td>1503.000000</td>\n",
              "    </tr>\n",
              "    <tr>\n",
              "      <th>mean</th>\n",
              "      <td>2886.380572</td>\n",
              "      <td>6.782302</td>\n",
              "      <td>0.136548</td>\n",
              "      <td>50.860745</td>\n",
              "      <td>0.011140</td>\n",
              "      <td>124.835943</td>\n",
              "    </tr>\n",
              "    <tr>\n",
              "      <th>std</th>\n",
              "      <td>3152.573137</td>\n",
              "      <td>5.918128</td>\n",
              "      <td>0.093541</td>\n",
              "      <td>15.572784</td>\n",
              "      <td>0.013150</td>\n",
              "      <td>6.898657</td>\n",
              "    </tr>\n",
              "    <tr>\n",
              "      <th>min</th>\n",
              "      <td>200.000000</td>\n",
              "      <td>0.000000</td>\n",
              "      <td>0.025400</td>\n",
              "      <td>31.700000</td>\n",
              "      <td>0.000401</td>\n",
              "      <td>103.380000</td>\n",
              "    </tr>\n",
              "    <tr>\n",
              "      <th>25%</th>\n",
              "      <td>800.000000</td>\n",
              "      <td>2.000000</td>\n",
              "      <td>0.050800</td>\n",
              "      <td>39.600000</td>\n",
              "      <td>0.002535</td>\n",
              "      <td>120.191000</td>\n",
              "    </tr>\n",
              "    <tr>\n",
              "      <th>50%</th>\n",
              "      <td>1600.000000</td>\n",
              "      <td>5.400000</td>\n",
              "      <td>0.101600</td>\n",
              "      <td>39.600000</td>\n",
              "      <td>0.004957</td>\n",
              "      <td>125.721000</td>\n",
              "    </tr>\n",
              "    <tr>\n",
              "      <th>75%</th>\n",
              "      <td>4000.000000</td>\n",
              "      <td>9.900000</td>\n",
              "      <td>0.228600</td>\n",
              "      <td>71.300000</td>\n",
              "      <td>0.015576</td>\n",
              "      <td>129.995500</td>\n",
              "    </tr>\n",
              "    <tr>\n",
              "      <th>max</th>\n",
              "      <td>20000.000000</td>\n",
              "      <td>22.200000</td>\n",
              "      <td>0.304800</td>\n",
              "      <td>71.300000</td>\n",
              "      <td>0.058411</td>\n",
              "      <td>140.987000</td>\n",
              "    </tr>\n",
              "  </tbody>\n",
              "</table>\n",
              "</div>\n",
              "    <div class=\"colab-df-buttons\">\n",
              "\n",
              "  <div class=\"colab-df-container\">\n",
              "    <button class=\"colab-df-convert\" onclick=\"convertToInteractive('df-cd5f1245-586f-4302-bb8c-57daa6746bfb')\"\n",
              "            title=\"Convert this dataframe to an interactive table.\"\n",
              "            style=\"display:none;\">\n",
              "\n",
              "  <svg xmlns=\"http://www.w3.org/2000/svg\" height=\"24px\" viewBox=\"0 -960 960 960\">\n",
              "    <path d=\"M120-120v-720h720v720H120Zm60-500h600v-160H180v160Zm220 220h160v-160H400v160Zm0 220h160v-160H400v160ZM180-400h160v-160H180v160Zm440 0h160v-160H620v160ZM180-180h160v-160H180v160Zm440 0h160v-160H620v160Z\"/>\n",
              "  </svg>\n",
              "    </button>\n",
              "\n",
              "  <style>\n",
              "    .colab-df-container {\n",
              "      display:flex;\n",
              "      gap: 12px;\n",
              "    }\n",
              "\n",
              "    .colab-df-convert {\n",
              "      background-color: #E8F0FE;\n",
              "      border: none;\n",
              "      border-radius: 50%;\n",
              "      cursor: pointer;\n",
              "      display: none;\n",
              "      fill: #1967D2;\n",
              "      height: 32px;\n",
              "      padding: 0 0 0 0;\n",
              "      width: 32px;\n",
              "    }\n",
              "\n",
              "    .colab-df-convert:hover {\n",
              "      background-color: #E2EBFA;\n",
              "      box-shadow: 0px 1px 2px rgba(60, 64, 67, 0.3), 0px 1px 3px 1px rgba(60, 64, 67, 0.15);\n",
              "      fill: #174EA6;\n",
              "    }\n",
              "\n",
              "    .colab-df-buttons div {\n",
              "      margin-bottom: 4px;\n",
              "    }\n",
              "\n",
              "    [theme=dark] .colab-df-convert {\n",
              "      background-color: #3B4455;\n",
              "      fill: #D2E3FC;\n",
              "    }\n",
              "\n",
              "    [theme=dark] .colab-df-convert:hover {\n",
              "      background-color: #434B5C;\n",
              "      box-shadow: 0px 1px 3px 1px rgba(0, 0, 0, 0.15);\n",
              "      filter: drop-shadow(0px 1px 2px rgba(0, 0, 0, 0.3));\n",
              "      fill: #FFFFFF;\n",
              "    }\n",
              "  </style>\n",
              "\n",
              "    <script>\n",
              "      const buttonEl =\n",
              "        document.querySelector('#df-cd5f1245-586f-4302-bb8c-57daa6746bfb button.colab-df-convert');\n",
              "      buttonEl.style.display =\n",
              "        google.colab.kernel.accessAllowed ? 'block' : 'none';\n",
              "\n",
              "      async function convertToInteractive(key) {\n",
              "        const element = document.querySelector('#df-cd5f1245-586f-4302-bb8c-57daa6746bfb');\n",
              "        const dataTable =\n",
              "          await google.colab.kernel.invokeFunction('convertToInteractive',\n",
              "                                                    [key], {});\n",
              "        if (!dataTable) return;\n",
              "\n",
              "        const docLinkHtml = 'Like what you see? Visit the ' +\n",
              "          '<a target=\"_blank\" href=https://colab.research.google.com/notebooks/data_table.ipynb>data table notebook</a>'\n",
              "          + ' to learn more about interactive tables.';\n",
              "        element.innerHTML = '';\n",
              "        dataTable['output_type'] = 'display_data';\n",
              "        await google.colab.output.renderOutput(dataTable, element);\n",
              "        const docLink = document.createElement('div');\n",
              "        docLink.innerHTML = docLinkHtml;\n",
              "        element.appendChild(docLink);\n",
              "      }\n",
              "    </script>\n",
              "  </div>\n",
              "\n",
              "\n",
              "<div id=\"df-232b6621-de68-42ba-aebb-b128a1ed28a3\">\n",
              "  <button class=\"colab-df-quickchart\" onclick=\"quickchart('df-232b6621-de68-42ba-aebb-b128a1ed28a3')\"\n",
              "            title=\"Suggest charts.\"\n",
              "            style=\"display:none;\">\n",
              "\n",
              "<svg xmlns=\"http://www.w3.org/2000/svg\" height=\"24px\"viewBox=\"0 0 24 24\"\n",
              "     width=\"24px\">\n",
              "    <g>\n",
              "        <path d=\"M19 3H5c-1.1 0-2 .9-2 2v14c0 1.1.9 2 2 2h14c1.1 0 2-.9 2-2V5c0-1.1-.9-2-2-2zM9 17H7v-7h2v7zm4 0h-2V7h2v10zm4 0h-2v-4h2v4z\"/>\n",
              "    </g>\n",
              "</svg>\n",
              "  </button>\n",
              "\n",
              "<style>\n",
              "  .colab-df-quickchart {\n",
              "      --bg-color: #E8F0FE;\n",
              "      --fill-color: #1967D2;\n",
              "      --hover-bg-color: #E2EBFA;\n",
              "      --hover-fill-color: #174EA6;\n",
              "      --disabled-fill-color: #AAA;\n",
              "      --disabled-bg-color: #DDD;\n",
              "  }\n",
              "\n",
              "  [theme=dark] .colab-df-quickchart {\n",
              "      --bg-color: #3B4455;\n",
              "      --fill-color: #D2E3FC;\n",
              "      --hover-bg-color: #434B5C;\n",
              "      --hover-fill-color: #FFFFFF;\n",
              "      --disabled-bg-color: #3B4455;\n",
              "      --disabled-fill-color: #666;\n",
              "  }\n",
              "\n",
              "  .colab-df-quickchart {\n",
              "    background-color: var(--bg-color);\n",
              "    border: none;\n",
              "    border-radius: 50%;\n",
              "    cursor: pointer;\n",
              "    display: none;\n",
              "    fill: var(--fill-color);\n",
              "    height: 32px;\n",
              "    padding: 0;\n",
              "    width: 32px;\n",
              "  }\n",
              "\n",
              "  .colab-df-quickchart:hover {\n",
              "    background-color: var(--hover-bg-color);\n",
              "    box-shadow: 0 1px 2px rgba(60, 64, 67, 0.3), 0 1px 3px 1px rgba(60, 64, 67, 0.15);\n",
              "    fill: var(--button-hover-fill-color);\n",
              "  }\n",
              "\n",
              "  .colab-df-quickchart-complete:disabled,\n",
              "  .colab-df-quickchart-complete:disabled:hover {\n",
              "    background-color: var(--disabled-bg-color);\n",
              "    fill: var(--disabled-fill-color);\n",
              "    box-shadow: none;\n",
              "  }\n",
              "\n",
              "  .colab-df-spinner {\n",
              "    border: 2px solid var(--fill-color);\n",
              "    border-color: transparent;\n",
              "    border-bottom-color: var(--fill-color);\n",
              "    animation:\n",
              "      spin 1s steps(1) infinite;\n",
              "  }\n",
              "\n",
              "  @keyframes spin {\n",
              "    0% {\n",
              "      border-color: transparent;\n",
              "      border-bottom-color: var(--fill-color);\n",
              "      border-left-color: var(--fill-color);\n",
              "    }\n",
              "    20% {\n",
              "      border-color: transparent;\n",
              "      border-left-color: var(--fill-color);\n",
              "      border-top-color: var(--fill-color);\n",
              "    }\n",
              "    30% {\n",
              "      border-color: transparent;\n",
              "      border-left-color: var(--fill-color);\n",
              "      border-top-color: var(--fill-color);\n",
              "      border-right-color: var(--fill-color);\n",
              "    }\n",
              "    40% {\n",
              "      border-color: transparent;\n",
              "      border-right-color: var(--fill-color);\n",
              "      border-top-color: var(--fill-color);\n",
              "    }\n",
              "    60% {\n",
              "      border-color: transparent;\n",
              "      border-right-color: var(--fill-color);\n",
              "    }\n",
              "    80% {\n",
              "      border-color: transparent;\n",
              "      border-right-color: var(--fill-color);\n",
              "      border-bottom-color: var(--fill-color);\n",
              "    }\n",
              "    90% {\n",
              "      border-color: transparent;\n",
              "      border-bottom-color: var(--fill-color);\n",
              "    }\n",
              "  }\n",
              "</style>\n",
              "\n",
              "  <script>\n",
              "    async function quickchart(key) {\n",
              "      const quickchartButtonEl =\n",
              "        document.querySelector('#' + key + ' button');\n",
              "      quickchartButtonEl.disabled = true;  // To prevent multiple clicks.\n",
              "      quickchartButtonEl.classList.add('colab-df-spinner');\n",
              "      try {\n",
              "        const charts = await google.colab.kernel.invokeFunction(\n",
              "            'suggestCharts', [key], {});\n",
              "      } catch (error) {\n",
              "        console.error('Error during call to suggestCharts:', error);\n",
              "      }\n",
              "      quickchartButtonEl.classList.remove('colab-df-spinner');\n",
              "      quickchartButtonEl.classList.add('colab-df-quickchart-complete');\n",
              "    }\n",
              "    (() => {\n",
              "      let quickchartButtonEl =\n",
              "        document.querySelector('#df-232b6621-de68-42ba-aebb-b128a1ed28a3 button');\n",
              "      quickchartButtonEl.style.display =\n",
              "        google.colab.kernel.accessAllowed ? 'block' : 'none';\n",
              "    })();\n",
              "  </script>\n",
              "</div>\n",
              "    </div>\n",
              "  </div>\n"
            ]
          },
          "metadata": {},
          "execution_count": 9
        }
      ]
    },
    {
      "cell_type": "code",
      "source": [
        "airfoil_corr = airfoil_data.corr()\n",
        "print(airfoil_corr)"
      ],
      "metadata": {
        "id": "EOGryDkKe9Zd",
        "colab": {
          "base_uri": "https://localhost:8080/"
        },
        "outputId": "1f35ec7f-0e97-4d6e-caa1-2f894c1f447b"
      },
      "execution_count": null,
      "outputs": [
        {
          "output_type": "stream",
          "name": "stdout",
          "text": [
            "                   f     alpha         c  U_infinity     delta      SSPL\n",
            "f           1.000000 -0.272765 -0.003661    0.133664 -0.230107 -0.390711\n",
            "alpha      -0.272765  1.000000 -0.504868    0.058760  0.753394 -0.156108\n",
            "c          -0.003661 -0.504868  1.000000    0.003787 -0.220842 -0.236162\n",
            "U_infinity  0.133664  0.058760  0.003787    1.000000 -0.003974  0.125103\n",
            "delta      -0.230107  0.753394 -0.220842   -0.003974  1.000000 -0.312670\n",
            "SSPL       -0.390711 -0.156108 -0.236162    0.125103 -0.312670  1.000000\n"
          ]
        }
      ]
    },
    {
      "cell_type": "code",
      "source": [
        "fig, ax = plt.subplots(figsize=(12,12))\n",
        "sns.heatmap(airfoil_corr, cmap='viridis', annot=True, ax=ax)\n",
        "plt.title('Airfoil Self Noise Data Correlation Matrix')\n",
        "plt.show()"
      ],
      "metadata": {
        "id": "KnENB84YfivK",
        "colab": {
          "base_uri": "https://localhost:8080/",
          "height": 848
        },
        "outputId": "914f129f-984a-4aa8-b59f-ec623fe14102"
      },
      "execution_count": null,
      "outputs": [
        {
          "output_type": "display_data",
          "data": {
            "text/plain": [
              "<Figure size 1200x1200 with 2 Axes>"
            ],
            "image/png": "[encoded data removed]"
          },
          "metadata": {}
        }
      ]
    },
    {
      "cell_type": "code",
      "source": [],
      "metadata": {
        "id": "tHP0D9mxzlgq"
      },
      "execution_count": null,
      "outputs": []
    },
    {
      "cell_type": "code",
      "source": [
        "np.shape(airfoil_data.values[:, :-1])"
      ],
      "metadata": {
        "colab": {
          "base_uri": "https://localhost:8080/"
        },
        "id": "JgffNOkrzlWT",
        "outputId": "62ac0b49-cc8c-4f69-a426-3e9b30988285"
      },
      "execution_count": null,
      "outputs": [
        {
          "output_type": "execute_result",
          "data": {
            "text/plain": [
              "(1503, 5)"
            ]
          },
          "metadata": {},
          "execution_count": 12
        }
      ]
    },
    {
      "cell_type": "markdown",
      "source": [
        "## Create the model"
      ],
      "metadata": {
        "id": "GDcF6Sq0edH1"
      }
    },
    {
      "cell_type": "markdown",
      "source": [
        "### Node class"
      ],
      "metadata": {
        "id": "XZlUJIqwefn8"
      }
    },
    {
      "cell_type": "code",
      "source": [
        "class Node():\n",
        "  def __init__(\n",
        "      self,\n",
        "      feature_index=None,\n",
        "      threshold=None,\n",
        "      left=None,\n",
        "      right=None,\n",
        "      var_red=None,\n",
        "      value=None\n",
        "    ):\n",
        "    self.feature_index = feature_index\n",
        "    self.threshold = threshold\n",
        "    self.left = left\n",
        "    self.right = right\n",
        "    self.var_red = var_red\n",
        "    self.value = value"
      ],
      "metadata": {
        "id": "vBqdUz37eRQG"
      },
      "execution_count": null,
      "outputs": []
    },
    {
      "cell_type": "markdown",
      "source": [
        "### Tree class"
      ],
      "metadata": {
        "id": "DjlGBSRmyaQw"
      }
    },
    {
      "cell_type": "code",
      "source": [
        "from numpy.core.multiarray import concatenate\n",
        "class DecisionTreeRegressor():\n",
        "  def __init__(self, min_samples_split=2, max_depth=2):\n",
        "    self.root = None # starting point\n",
        "    self.min_samples_split = min_samples_split # stopping criterion: are there enough samples to split into branches?\n",
        "    self.max_depth =  max_depth # stopping criterion: how deep goes the tree?\n",
        "\n",
        "  def build_tree(self, dataset, curr_depth=0):\n",
        "    X, Y = dataset[:, :-1], dataset[:, -1]\n",
        "    num_samples, num_features = np.shape(X)\n",
        "    best_split = {} # @! Why is it here and also in get_best_split function???\n",
        "    if num_samples >= self.min_samples_split and curr_depth <= self.max_depth: # stopping criteria check\n",
        "      best_split = self.get_best_split(dataset, num_samples, num_features)\n",
        "      if best_split['var_red'] > 0: # if variance reduction > 0 -> split the data into subtrees\n",
        "        left_subtree = self.build_tree(best_split['dataset_left'], curr_depth+1)\n",
        "        right_subtree = self.build_tree(best_split['dataset_right'], curr_depth+1)\n",
        "\n",
        "        return Node(\n",
        "            best_split['feature_index'],\n",
        "            best_split['threshold'],\n",
        "            left_subtree,\n",
        "            right_subtree,\n",
        "            best_split['var_red']) # Create a decision Node and stop the function\n",
        "\n",
        "    leaf_value = self.calculate_leaf_value(Y)\n",
        "    return Node(value=leaf_value) # if stopping criterions are met OR variance reduction is not > 0 -> create a leaf and end recursion\n",
        "\n",
        "  def variance_reduction(self, parent, l_child, r_child): # splitting criterion\n",
        "    weight_l = len(l_child) / len(parent)\n",
        "    weight_r = len(l_child) / len(parent)\n",
        "    reduction = np.var(parent) - (weight_l * np.var(l_child) + weight_r * np.var(r_child))\n",
        "    return reduction\n",
        "\n",
        "  def calculate_leaf_value(self, Y):\n",
        "    val = np.mean(Y)\n",
        "    return val\n",
        "\n",
        "  def split(self, dataset, feature_index, threshold): # split the dataset\n",
        "    dataset_left = np.array([row for row in dataset if row[feature_index] <= threshold])\n",
        "    dataset_right = np.array([row for row in dataset if row[feature_index] > threshold])\n",
        "    return dataset_left, dataset_right\n",
        "\n",
        "  def get_best_split(self, dataset, num_samples, num_features):\n",
        "    best_split = {}\n",
        "    max_var_red = -float('inf')\n",
        "\n",
        "    # Iterate through features to find best feature candidate for split\n",
        "    for feature_index in range(num_features):\n",
        "      feature_values = dataset[:, feature_index]\n",
        "      possible_thresholds = np.unique(feature_values)\n",
        "\n",
        "      # iterate through feature values to find best value candidate for split\n",
        "      for threshold in possible_thresholds:\n",
        "        dataset_left, dataset_right = self.split(dataset, feature_index, threshold)\n",
        "        if len(dataset_left) > 0 and len(dataset_right) > 0:\n",
        "          y, left_y, right_y = dataset[:, -1], dataset_left[:, -1], dataset_right[:, -1]\n",
        "          curr_var_red = self.variance_reduction(y, left_y, right_y)\n",
        "          if curr_var_red > max_var_red:\n",
        "            best_split['feature_index'] = feature_index\n",
        "            best_split['threshold'] = threshold\n",
        "            best_split['dataset_left'] = dataset_left\n",
        "            best_split['dataset_right'] = dataset_right\n",
        "            best_split['var_red'] = curr_var_red\n",
        "            max_var_red = curr_var_red\n",
        "\n",
        "    return best_split\n",
        "\n",
        "  def print_tree(self, tree = None, indent = ' '):\n",
        "    if not tree:\n",
        "      tree = self.root\n",
        "\n",
        "    if tree.value is not None:\n",
        "      print(tree.value)\n",
        "\n",
        "    else:\n",
        "      print('X_' + str(tree.feature_index), '<=', tree.threshold, '?', tree.var_red)\n",
        "      print('%sleft:' % (indent), end='')\n",
        "      self.print_tree(tree.left, indent + indent)\n",
        "      print('%sright' % (indent), end='')\n",
        "      self.print_tree(tree.right, indent + indent)\n",
        "\n",
        "  def fit(self, X, Y):\n",
        "    dataset = np.concatenate((X, Y), axis=1)\n",
        "    self.root = self.build_tree(dataset)\n",
        "\n",
        "  def make_prediction(self, x, tree):\n",
        "    if tree.value !=None: return tree.value\n",
        "\n",
        "    # Select a feature to split on in this particular node\n",
        "    feature_val = x[tree.feature_index]\n",
        "    if feature_val <= tree.threshold:\n",
        "      return self.make_prediction(x, tree.left)\n",
        "    else:\n",
        "      return self.make_prediction(x, tree.right)\n",
        "\n",
        "  def predict(self, X):\n",
        "    predictions = [self.make_prediction(x, self.root) for x in X]\n",
        "    return predictions\n"
      ],
      "metadata": {
        "id": "YGDRo2SfiAGT"
      },
      "execution_count": null,
      "outputs": []
    },
    {
      "cell_type": "markdown",
      "source": [
        "## Train-test split"
      ],
      "metadata": {
        "id": "tG6OjtygexBN"
      }
    },
    {
      "cell_type": "code",
      "source": [
        "from sklearn.model_selection import train_test_split"
      ],
      "metadata": {
        "id": "ki5y6vB9fwfc"
      },
      "execution_count": null,
      "outputs": []
    },
    {
      "cell_type": "code",
      "source": [
        "X_data = airfoil_data.iloc[:, :-1].values\n",
        "y_data = airfoil_data.iloc[:, -1].values.reshape(-1,1)\n",
        "\n",
        "print(X_data[:10], type(X_data), X_data.dtype)\n",
        "print(y_data[:10], type(y_data), y_data.dtype)"
      ],
      "metadata": {
        "colab": {
          "base_uri": "https://localhost:8080/"
        },
        "id": "kZBuvPNfVFnX",
        "outputId": "0f02ea90-a215-4db2-c816-6c52558e1897"
      },
      "execution_count": null,
      "outputs": [
        {
          "output_type": "stream",
          "name": "stdout",
          "text": [
            "[[8.00000e+02 0.00000e+00 3.04800e-01 7.13000e+01 2.66337e-03]\n",
            " [1.00000e+03 0.00000e+00 3.04800e-01 7.13000e+01 2.66337e-03]\n",
            " [1.25000e+03 0.00000e+00 3.04800e-01 7.13000e+01 2.66337e-03]\n",
            " [1.60000e+03 0.00000e+00 3.04800e-01 7.13000e+01 2.66337e-03]\n",
            " [2.00000e+03 0.00000e+00 3.04800e-01 7.13000e+01 2.66337e-03]\n",
            " [2.50000e+03 0.00000e+00 3.04800e-01 7.13000e+01 2.66337e-03]\n",
            " [3.15000e+03 0.00000e+00 3.04800e-01 7.13000e+01 2.66337e-03]\n",
            " [4.00000e+03 0.00000e+00 3.04800e-01 7.13000e+01 2.66337e-03]\n",
            " [5.00000e+03 0.00000e+00 3.04800e-01 7.13000e+01 2.66337e-03]\n",
            " [6.30000e+03 0.00000e+00 3.04800e-01 7.13000e+01 2.66337e-03]] <class 'numpy.ndarray'> float64\n",
            "[[126.201]\n",
            " [125.201]\n",
            " [125.951]\n",
            " [127.591]\n",
            " [127.461]\n",
            " [125.571]\n",
            " [125.201]\n",
            " [123.061]\n",
            " [121.301]\n",
            " [119.541]] <class 'numpy.ndarray'> float64\n"
          ]
        }
      ]
    },
    {
      "cell_type": "code",
      "source": [
        "X_train, X_test, y_train, y_test = train_test_split(X_data, y_data, test_size=.2, random_state=44)"
      ],
      "metadata": {
        "id": "dVdXb-U-euDz"
      },
      "execution_count": null,
      "outputs": []
    },
    {
      "cell_type": "markdown",
      "source": [
        "## Fit the model"
      ],
      "metadata": {
        "id": "krRfVmqmf-Of"
      }
    },
    {
      "cell_type": "code",
      "source": [
        "regressor_obj = DecisionTreeRegressor(min_samples_split=3, max_depth=3)"
      ],
      "metadata": {
        "id": "B_6H_fwPf9Ry"
      },
      "execution_count": null,
      "outputs": []
    },
    {
      "cell_type": "code",
      "source": [
        "regressor_obj.fit(X_train, y_train)"
      ],
      "metadata": {
        "id": "1lpSlvfkgFlF"
      },
      "execution_count": null,
      "outputs": []
    },
    {
      "cell_type": "code",
      "source": [
        "regressor_obj.print_tree()"
      ],
      "metadata": {
        "colab": {
          "base_uri": "https://localhost:8080/"
        },
        "id": "WpxoPFdugMTg",
        "outputId": "24f03c14-7004-4275-d80d-20e4c0b1ccd5"
      },
      "execution_count": null,
      "outputs": [
        {
          "output_type": "stream",
          "name": "stdout",
          "text": [
            "X_4 <= 0.000400682 ? 46.75639223326483\n",
            " left:X_0 <= 2500.0 ? 7.065230484693869\n",
            "  left:133.707\n",
            "  rightX_0 <= 3150.0 ? 7.960202947845798\n",
            "    left:137.007\n",
            "    rightX_0 <= 4000.0 ? 8.52442888888887\n",
            "        left:138.557\n",
            "        right133.137\n",
            " rightX_4 <= 0.00041229 ? 46.20990035122228\n",
            "  left:X_0 <= 2000.0 ? 17.25820208641975\n",
            "    left:127.623\n",
            "    rightX_0 <= 2500.0 ? 17.71724969135802\n",
            "        left:130.073\n",
            "        right131.203\n",
            "  rightX_4 <= 0.000428464 ? 46.0884300813114\n",
            "    left:X_0 <= 1600.0 ? 16.67962106611569\n",
            "        left:124.156\n",
            "        right132.71900000000002\n",
            "    rightX_4 <= 0.000439472 ? 46.08619270151364\n",
            "        left:132.86557142857143\n",
            "        right124.5444459691252\n"
          ]
        }
      ]
    },
    {
      "cell_type": "markdown",
      "source": [
        "## Evaluate the model"
      ],
      "metadata": {
        "id": "eIsMQGA9hU7Y"
      }
    },
    {
      "cell_type": "code",
      "source": [
        "from sklearn.metrics import mean_squared_error, mean_absolute_error"
      ],
      "metadata": {
        "id": "4bqy-u4Khe6A"
      },
      "execution_count": null,
      "outputs": []
    },
    {
      "cell_type": "code",
      "source": [
        "y_pred = regressor_obj.predict(X_test)"
      ],
      "metadata": {
        "id": "P6D2BKuHg7dw"
      },
      "execution_count": null,
      "outputs": []
    },
    {
      "cell_type": "code",
      "source": [
        "print(mean_squared_error(y_test, y_pred))"
      ],
      "metadata": {
        "colab": {
          "base_uri": "https://localhost:8080/"
        },
        "id": "gVQfrWH-hjov",
        "outputId": "20c41d9e-8d14-4940-acfc-e6d692bae526"
      },
      "execution_count": null,
      "outputs": [
        {
          "output_type": "stream",
          "name": "stdout",
          "text": [
            "48.33460123215295\n"
          ]
        }
      ]
    },
    {
      "cell_type": "code",
      "source": [
        "print(mean_absolute_error(y_test, y_pred))"
      ],
      "metadata": {
        "id": "zDEOZ2IIiARe",
        "outputId": "440ef391-e8f7-4601-e3c0-416344c7f6cb",
        "colab": {
          "base_uri": "https://localhost:8080/"
        }
      },
      "execution_count": null,
      "outputs": [
        {
          "output_type": "stream",
          "name": "stdout",
          "text": [
            "5.6531972669717305\n"
          ]
        }
      ]
    },
    {
      "cell_type": "code",
      "source": [
        "airfoil_data.SSPL.describe()"
      ],
      "metadata": {
        "colab": {
          "base_uri": "https://localhost:8080/"
        },
        "id": "sAYHUbeOhs6d",
        "outputId": "87c2e029-439c-453f-dd94-dda923398373"
      },
      "execution_count": null,
      "outputs": [
        {
          "output_type": "execute_result",
          "data": {
            "text/plain": [
              "count    1503.000000\n",
              "mean      124.835943\n",
              "std         6.898657\n",
              "min       103.380000\n",
              "25%       120.191000\n",
              "50%       125.721000\n",
              "75%       129.995500\n",
              "max       140.987000\n",
              "Name: SSPL, dtype: float64"
            ]
          },
          "metadata": {},
          "execution_count": 47
        }
      ]
    },
    {
      "cell_type": "code",
      "source": [],
      "metadata": {
        "id": "KajH6_43h32M"
      },
      "execution_count": null,
      "outputs": []
    }
  ]
}